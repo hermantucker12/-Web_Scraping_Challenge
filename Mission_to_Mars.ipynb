{
 "cells": [
  {
   "cell_type": "code",
   "execution_count": 8,
   "id": "acb4f0e6",
   "metadata": {},
   "outputs": [],
   "source": [
    "import pandas as pd\n",
    "from bs4 import BeautifulSoup\n",
    "import requests\n",
    "from splinter import Browser\n",
    "from webdriver_manager.chrome import ChromeDriverManager\n",
    "import time"
   ]
  },
  {
   "cell_type": "code",
   "execution_count": 12,
   "id": "adeec60d",
   "metadata": {},
   "outputs": [
    {
     "name": "stdout",
     "output_type": "stream",
     "text": [
      "\n"
     ]
    },
    {
     "name": "stderr",
     "output_type": "stream",
     "text": [
      "[WDM] - ====== WebDriver manager ======\n",
      "[WDM] - Current google-chrome version is 103.0.5060\n",
      "[WDM] - Get LATEST chromedriver version for 103.0.5060 google-chrome\n",
      "[WDM] - Driver [/Users/herman/.wdm/drivers/chromedriver/mac64/103.0.5060.53/chromedriver] found in cache\n"
     ]
    }
   ],
   "source": [
    "#Set Executable Path & Initialize Chrome Browser\n",
    "executable_path = {'executable_path': ChromeDriverManager().install()}\n",
    "browser = Browser('chrome', **executable_path, headless=True)"
   ]
  },
  {
   "cell_type": "markdown",
   "id": "366b831a",
   "metadata": {},
   "source": [
    "# NASA Mars News"
   ]
  },
  {
   "cell_type": "code",
   "execution_count": 16,
   "id": "5be08d79",
   "metadata": {},
   "outputs": [],
   "source": [
    "#Visit the NASA Mars News Site\n",
    "url = \"https://mars.nasa.gov/news/\"\n",
    "browser.visit(url)"
   ]
  },
  {
   "cell_type": "code",
   "execution_count": 17,
   "id": "5809c9d2",
   "metadata": {},
   "outputs": [],
   "source": [
    "#Analyze results HTML with BeautifulSoup\n",
    "html = browser.html\n",
    "news_soup = BeautifulSoup(html, \"html.parser\")\n",
    "slide_element = news_soup.select_one(\"ul.item_list li.slide\")"
   ]
  },
  {
   "cell_type": "code",
   "execution_count": 15,
   "id": "e72be50a",
   "metadata": {},
   "outputs": [
    {
     "data": {
      "text/plain": [
       "<div class=\"content_title\"><a href=\"/news/9217/my-favorite-martian-image-enchanted-rocks-at-jezero-crater/\" target=\"_self\">My Favorite Martian Image: 'Enchanted' Rocks at Jezero Crater</a></div>"
      ]
     },
     "execution_count": 15,
     "metadata": {},
     "output_type": "execute_result"
    }
   ],
   "source": [
    "slide_element.find(\"div\", class_=\"content_title\")"
   ]
  },
  {
   "cell_type": "code",
   "execution_count": 18,
   "id": "b10109d4",
   "metadata": {},
   "outputs": [
    {
     "name": "stdout",
     "output_type": "stream",
     "text": [
      "My Favorite Martian Image: 'Enchanted' Rocks at Jezero Crater\n"
     ]
    }
   ],
   "source": [
    "#Scrape the Latest News Title\n",
    "news_title = slide_element.find(\"div\", class_=\"content_title\").get_text()\n",
    "print(news_title)"
   ]
  },
  {
   "cell_type": "code",
   "execution_count": 19,
   "id": "a56a98c8",
   "metadata": {},
   "outputs": [
    {
     "name": "stdout",
     "output_type": "stream",
     "text": [
      "Not even Obi-Wan Kenobi could convince Perseverance’s Katie Stack Morgan that these are not the rocks she’s looking for.\n"
     ]
    }
   ],
   "source": [
    "#Scrape the Paragraph Text\n",
    "news_p = slide_element.find(\"div\", class_=\"article_teaser_body\").get_text()\n",
    "print(news_p)\n"
   ]
  },
  {
   "cell_type": "markdown",
   "id": "5cf41324",
   "metadata": {},
   "source": [
    "# JPL Mars Space Images - Featured Image"
   ]
  },
  {
   "cell_type": "code",
   "execution_count": 22,
   "id": "5eb90c47",
   "metadata": {},
   "outputs": [],
   "source": [
    "url = 'https://spaceimages-mars.com/'\n",
    "browser.visit(url)"
   ]
  },
  {
   "cell_type": "code",
   "execution_count": 23,
   "id": "f6e1dbe6",
   "metadata": {},
   "outputs": [],
   "source": [
    "#Assign the HTML content of the page to a variable\n",
    "img_html = browser.html"
   ]
  },
  {
   "cell_type": "code",
   "execution_count": 24,
   "id": "9bf300cd",
   "metadata": {},
   "outputs": [],
   "source": [
    "#Analyze HTML with Beautifulsoup\n",
    "soup = BeautifulSoup(img_html, 'html.parser')"
   ]
  },
  {
   "cell_type": "code",
   "execution_count": 25,
   "id": "8290ced5",
   "metadata": {},
   "outputs": [],
   "source": [
    "#Find the image url for the current Mars Image\n",
    "img_result = soup.find_all('img')"
   ]
  },
  {
   "cell_type": "code",
   "execution_count": 26,
   "id": "78a3f6cc",
   "metadata": {},
   "outputs": [
    {
     "name": "stdout",
     "output_type": "stream",
     "text": [
      "image/nasa.png\n",
      "image/featured/mars1.jpg\n",
      "image/mars/Icaria Fossae7.jpg\n",
      "image/mars/Proctor Crater Dunes 7.jpg\n",
      "image/mars/Icaria Fossae7.jpg\n",
      "image/mars/Proctor Crater Dunes 7.jpg\n",
      "image/mars/Proctor Crater Dunes 7.jpg\n",
      "image/mars/Icaria Fossae7.jpg\n",
      "image/mars/Icaria Fossae.jpg\n",
      "image/mars/Ariadnes Colles4.jpg\n",
      "image/mars/Niger Vallis.jpg\n",
      "image/mars/Proctor Crater Dunes.jpg\n",
      "image/mars/Niger Vallis.jpg\n",
      "image/mars/Daedalia Planum.jpg\n",
      "image/mars/Sirenum Fossae.jpg\n",
      "image/mars/Ariadnes Colles4.jpg\n",
      "image/mars/South Polar Cap.jpg\n",
      "image/mars/Daedalia Planum.jpg\n",
      "image/mars/Ariadnes Colles3.jpg\n",
      "image/mars/Atlantis Chaos.jpg\n",
      "image/mars/Daedalia Planum.jpg\n",
      "image/mars/Icaria Fossae.jpg\n",
      "image/mars/Niger Vallis.jpg\n",
      "image/mars/Proctor Crater Dunes.jpg\n",
      "image/mars/Reull Vallis.jpg\n",
      "image/mars/Ariadnes Colles3.jpg\n",
      "image/mars/Sirenum Fossae.jpg\n",
      "image/mars/South Polar Cap.jpg\n",
      "image/mars/Niger Vallis.jpg\n",
      "image/mars/Daedalia Planum.jpg\n",
      "image/mars/Icaria Fossae.jpg\n",
      "image/mars/Ariadnes Colles4.jpg\n",
      "image/mars/South Polar Cap.jpg\n",
      "image/mars/Daedalia Planum.jpg\n",
      "\n",
      "https://www.jpl.nasa.gov/assets/images/content/tmp/images/jpl_photojournal(3x1).jpg\n",
      "https://www.jpl.nasa.gov/assets/images/content/tmp/images/nasa_images(3x1).jpg\n",
      "https://imagecache.jpl.nasa.gov/images/640x350/C1-PIA24304---CatScanMars-16-640x350.gif\n",
      "https://imagecache.jpl.nasa.gov/images/640x350/PIA23491-16-640x350.jpg\n",
      "https://imagecache.jpl.nasa.gov/images/640x350/C1-PIA23180-16-640x350.gif\n"
     ]
    }
   ],
   "source": [
    "for image in img_result:\n",
    "    print(image['src'])"
   ]
  },
  {
   "cell_type": "code",
   "execution_count": 27,
   "id": "fc9ea7ee",
   "metadata": {},
   "outputs": [
    {
     "name": "stdout",
     "output_type": "stream",
     "text": [
      "https://spaceimages-mars.com/image/featured/mars3.jpg\n"
     ]
    }
   ],
   "source": [
    "url = 'https://spaceimages-mars.com/'\n",
    "image_url = 'image/featured/mars3.jpg'\n",
    "featured_image_url = url + image_url\n",
    "print(featured_image_url)"
   ]
  },
  {
   "cell_type": "code",
   "execution_count": 28,
   "id": "24a29331",
   "metadata": {},
   "outputs": [
    {
     "data": {
      "text/plain": [
       "'https://spaceimages-mars.com/image/featured/mars3.jpg'"
      ]
     },
     "execution_count": 28,
     "metadata": {},
     "output_type": "execute_result"
    }
   ],
   "source": [
    "#Save the scraped data as an entry of the dictionary\n",
    "scraped_data[\"featured_image_url\"] = featured_image_url\n",
    "scraped_data[\"featured_image_url\"]"
   ]
  },
  {
   "cell_type": "markdown",
   "id": "f9a885c3",
   "metadata": {},
   "source": [
    "# Mars Facts"
   ]
  },
  {
   "cell_type": "code",
   "execution_count": 29,
   "id": "4da420be",
   "metadata": {},
   "outputs": [
    {
     "name": "stdout",
     "output_type": "stream",
     "text": [
      "                         0                1                2\n",
      "0  Mars - Earth Comparison             Mars            Earth\n",
      "1                Diameter:         6,779 km        12,742 km\n",
      "2                    Mass:  6.39 × 10^23 kg  5.97 × 10^24 kg\n",
      "3                   Moons:                2                1\n",
      "4       Distance from Sun:   227,943,824 km   149,598,262 km\n",
      "5          Length of Year:   687 Earth days      365.24 days\n",
      "6             Temperature:     -87 to -5 °C      -88 to 58°C\n"
     ]
    },
    {
     "data": {
      "text/html": [
       "<div>\n",
       "<style scoped>\n",
       "    .dataframe tbody tr th:only-of-type {\n",
       "        vertical-align: middle;\n",
       "    }\n",
       "\n",
       "    .dataframe tbody tr th {\n",
       "        vertical-align: top;\n",
       "    }\n",
       "\n",
       "    .dataframe thead th {\n",
       "        text-align: right;\n",
       "    }\n",
       "</style>\n",
       "<table border=\"1\" class=\"dataframe\">\n",
       "  <thead>\n",
       "    <tr style=\"text-align: right;\">\n",
       "      <th></th>\n",
       "      <th>Mars</th>\n",
       "      <th>Earth</th>\n",
       "    </tr>\n",
       "    <tr>\n",
       "      <th>Description</th>\n",
       "      <th></th>\n",
       "      <th></th>\n",
       "    </tr>\n",
       "  </thead>\n",
       "  <tbody>\n",
       "    <tr>\n",
       "      <th>Mars - Earth Comparison</th>\n",
       "      <td>Mars</td>\n",
       "      <td>Earth</td>\n",
       "    </tr>\n",
       "    <tr>\n",
       "      <th>Diameter:</th>\n",
       "      <td>6,779 km</td>\n",
       "      <td>12,742 km</td>\n",
       "    </tr>\n",
       "    <tr>\n",
       "      <th>Mass:</th>\n",
       "      <td>6.39 × 10^23 kg</td>\n",
       "      <td>5.97 × 10^24 kg</td>\n",
       "    </tr>\n",
       "    <tr>\n",
       "      <th>Moons:</th>\n",
       "      <td>2</td>\n",
       "      <td>1</td>\n",
       "    </tr>\n",
       "    <tr>\n",
       "      <th>Distance from Sun:</th>\n",
       "      <td>227,943,824 km</td>\n",
       "      <td>149,598,262 km</td>\n",
       "    </tr>\n",
       "    <tr>\n",
       "      <th>Length of Year:</th>\n",
       "      <td>687 Earth days</td>\n",
       "      <td>365.24 days</td>\n",
       "    </tr>\n",
       "    <tr>\n",
       "      <th>Temperature:</th>\n",
       "      <td>-87 to -5 °C</td>\n",
       "      <td>-88 to 58°C</td>\n",
       "    </tr>\n",
       "  </tbody>\n",
       "</table>\n",
       "</div>"
      ],
      "text/plain": [
       "                                    Mars            Earth\n",
       "Description                                              \n",
       "Mars - Earth Comparison             Mars            Earth\n",
       "Diameter:                       6,779 km        12,742 km\n",
       "Mass:                    6.39 × 10^23 kg  5.97 × 10^24 kg\n",
       "Moons:                                 2                1\n",
       "Distance from Sun:        227,943,824 km   149,598,262 km\n",
       "Length of Year:           687 Earth days      365.24 days\n",
       "Temperature:                -87 to -5 °C      -88 to 58°C"
      ]
     },
     "execution_count": 29,
     "metadata": {},
     "output_type": "execute_result"
    }
   ],
   "source": [
    "#Visit the Mars Facts Site Using Pandas to Read\n",
    "mars_df = pd.read_html(\"https://galaxyfacts-mars.com/\")[0]\n",
    "print(mars_df)\n",
    "mars_df.columns=[\"Description\", \"Mars\", \"Earth\"]\n",
    "mars_df.set_index(\"Description\", inplace=True)\n",
    "mars_df"
   ]
  },
  {
   "cell_type": "code",
   "execution_count": 30,
   "id": "5326a282",
   "metadata": {},
   "outputs": [
    {
     "data": {
      "text/plain": [
       "'<table border=\"1\" class=\"dataframe\">\\n  <thead>\\n    <tr style=\"text-align: right;\">\\n      <th></th>\\n      <th>Mars</th>\\n      <th>Earth</th>\\n    </tr>\\n    <tr>\\n      <th>Description</th>\\n      <th></th>\\n      <th></th>\\n    </tr>\\n  </thead>\\n  <tbody>\\n    <tr>\\n      <th>Mars - Earth Comparison</th>\\n      <td>Mars</td>\\n      <td>Earth</td>\\n    </tr>\\n    <tr>\\n      <th>Diameter:</th>\\n      <td>6,779 km</td>\\n      <td>12,742 km</td>\\n    </tr>\\n    <tr>\\n      <th>Mass:</th>\\n      <td>6.39 × 10^23 kg</td>\\n      <td>5.97 × 10^24 kg</td>\\n    </tr>\\n    <tr>\\n      <th>Moons:</th>\\n      <td>2</td>\\n      <td>1</td>\\n    </tr>\\n    <tr>\\n      <th>Distance from Sun:</th>\\n      <td>227,943,824 km</td>\\n      <td>149,598,262 km</td>\\n    </tr>\\n    <tr>\\n      <th>Length of Year:</th>\\n      <td>687 Earth days</td>\\n      <td>365.24 days</td>\\n    </tr>\\n    <tr>\\n      <th>Temperature:</th>\\n      <td>-87 to -5 °C</td>\\n      <td>-88 to 58°C</td>\\n    </tr>\\n  </tbody>\\n</table>'"
      ]
     },
     "execution_count": 30,
     "metadata": {},
     "output_type": "execute_result"
    }
   ],
   "source": [
    "mars_df.to_html()"
   ]
  },
  {
   "cell_type": "markdown",
   "id": "df129e15",
   "metadata": {},
   "source": [
    "# Mars Hemispheres"
   ]
  },
  {
   "cell_type": "code",
   "execution_count": 31,
   "id": "d57d6ae3",
   "metadata": {},
   "outputs": [],
   "source": [
    "url_mars_hemispheres = \"https://marshemispheres.com/\""
   ]
  },
  {
   "cell_type": "code",
   "execution_count": 32,
   "id": "3c6c4f55",
   "metadata": {},
   "outputs": [],
   "source": [
    "#Use the browser to visit the url\n",
    "browser.visit(url_mars_hemispheres)"
   ]
  },
  {
   "cell_type": "code",
   "execution_count": 33,
   "id": "4afa585b",
   "metadata": {},
   "outputs": [],
   "source": [
    "html = browser.html\n",
    "soup = BeautifulSoup(html, 'html.parser')"
   ]
  },
  {
   "cell_type": "code",
   "execution_count": 34,
   "id": "c8aac0d2",
   "metadata": {},
   "outputs": [],
   "source": [
    "results= soup.find_all('div',class_='description')"
   ]
  },
  {
   "cell_type": "code",
   "execution_count": 35,
   "id": "1e9a576f",
   "metadata": {},
   "outputs": [
    {
     "name": "stdout",
     "output_type": "stream",
     "text": [
      "['https://marshemispheres.com/cerberus.html', 'https://marshemispheres.com/schiaparelli.html', 'https://marshemispheres.com/syrtis.html', 'https://marshemispheres.com/valles.html']\n"
     ]
    },
    {
     "data": {
      "text/plain": [
       "['Cerberus Hemisphere Enhanced',\n",
       " 'Schiaparelli Hemisphere Enhanced',\n",
       " 'Syrtis Major Hemisphere Enhanced',\n",
       " 'Valles Marineris Hemisphere Enhanced']"
      ]
     },
     "execution_count": 35,
     "metadata": {},
     "output_type": "execute_result"
    }
   ],
   "source": [
    "#list_hemispheres = []\n",
    "#for i in range(len(results)):\n",
    "#list_hemispheres.append(results[i].a.h3.text)\n",
    "#list_hemispheres\n",
    "\n",
    "urls = []\n",
    "titles = []\n",
    "for item in results:\n",
    "    urls.append(url_mars_hemispheres + item.find('a')['href'])\n",
    "    titles.append(item.find('h3').text.strip())\n",
    "print(urls)\n",
    "titles"
   ]
  },
  {
   "cell_type": "code",
   "execution_count": 36,
   "id": "ad9489ea",
   "metadata": {},
   "outputs": [],
   "source": [
    "#Find the image urls \n",
    "img_result = soup.find_all('img')"
   ]
  },
  {
   "cell_type": "code",
   "execution_count": 37,
   "id": "33d0b79f",
   "metadata": {},
   "outputs": [
    {
     "name": "stdout",
     "output_type": "stream",
     "text": [
      "images/usgs_logo_main_2x.png\n",
      "images/nasa-logo-web-med.png\n",
      "images/astropedia-logo-main.png\n",
      "images/39d3266553462198bd2fbc4d18fbed17_cerberus_enhanced.tif_thumb.png\n",
      "images/08eac6e22c07fb1fe72223a79252de20_schiaparelli_enhanced.tif_thumb.png\n",
      "images/55a0a1e2796313fdeafb17c35925e8ac_syrtis_major_enhanced.tif_thumb.png\n",
      "images/4e59980c1c57f89c680c0e1ccabbeff1_valles_marineris_enhanced.tif_thumb.png\n"
     ]
    }
   ],
   "source": [
    "for image in img_result:\n",
    "    print(image['src'])"
   ]
  },
  {
   "cell_type": "code",
   "execution_count": 38,
   "id": "b6110d36",
   "metadata": {},
   "outputs": [
    {
     "data": {
      "text/plain": [
       "'https://marshemispheres.com/images/f5e372a36edfa389625da6d0cc25d905_cerberus_enhanced.tif_full.jpg'"
      ]
     },
     "execution_count": 38,
     "metadata": {},
     "output_type": "execute_result"
    }
   ],
   "source": [
    "browser.visit(urls[0])\n",
    "html = browser.html\n",
    "soup = BeautifulSoup(html, 'html.parser')\n",
    "image = url_mars_hemispheres+soup.find('img',class_='wide-image')['src']\n",
    "image"
   ]
  },
  {
   "cell_type": "code",
   "execution_count": 39,
   "id": "d7b01061",
   "metadata": {},
   "outputs": [
    {
     "data": {
      "text/plain": [
       "['https://marshemispheres.com/images/f5e372a36edfa389625da6d0cc25d905_cerberus_enhanced.tif_full.jpg',\n",
       " 'https://marshemispheres.com/images/3778f7b43bbbc89d6e3cfabb3613ba93_schiaparelli_enhanced.tif_full.jpg',\n",
       " 'https://marshemispheres.com/images/555e6403a6ddd7ba16ddb0e471cadcf7_syrtis_major_enhanced.tif_full.jpg',\n",
       " 'https://marshemispheres.com/images/b3c7c6c9138f57b4756be9b9c43e3a48_valles_marineris_enhanced.tif_full.jpg']"
      ]
     },
     "execution_count": 39,
     "metadata": {},
     "output_type": "execute_result"
    }
   ],
   "source": [
    "img_urls = []\n",
    "for image in urls:\n",
    "    browser.visit(image)\n",
    "    html = browser.html\n",
    "    soup = BeautifulSoup(html, 'html.parser')\n",
    "#     savetofile(textfilename,soup.prettify())\n",
    "    image = url_mars_hemispheres+soup.find('img',class_='wide-image')['src']\n",
    "    img_urls.append(image)\n",
    "    \n",
    "img_urls"
   ]
  },
  {
   "cell_type": "code",
   "execution_count": 40,
   "id": "a70b3496",
   "metadata": {},
   "outputs": [
    {
     "data": {
      "text/plain": [
       "[{'title': 'Cerberus Hemisphere Enhanced',\n",
       "  'img_url': 'https://marshemispheres.com/images/f5e372a36edfa389625da6d0cc25d905_cerberus_enhanced.tif_full.jpg'},\n",
       " {'title': 'Schiaparelli Hemisphere Enhanced',\n",
       "  'img_url': 'https://marshemispheres.com/images/3778f7b43bbbc89d6e3cfabb3613ba93_schiaparelli_enhanced.tif_full.jpg'},\n",
       " {'title': 'Syrtis Major Hemisphere Enhanced',\n",
       "  'img_url': 'https://marshemispheres.com/images/555e6403a6ddd7ba16ddb0e471cadcf7_syrtis_major_enhanced.tif_full.jpg'},\n",
       " {'title': 'Valles Marineris Hemisphere Enhanced',\n",
       "  'img_url': 'https://marshemispheres.com/images/b3c7c6c9138f57b4756be9b9c43e3a48_valles_marineris_enhanced.tif_full.jpg'}]"
      ]
     },
     "execution_count": 40,
     "metadata": {},
     "output_type": "execute_result"
    }
   ],
   "source": [
    "hemisphere_image_urls = []\n",
    "\n",
    "for i in range(len(titles)):\n",
    "    hemisphere_image_urls.append({'title':titles[i],'img_url':img_urls[i]})\n",
    "\n",
    "hemisphere_image_urls"
   ]
  },
  {
   "cell_type": "code",
   "execution_count": 41,
   "id": "ef3706a6",
   "metadata": {},
   "outputs": [
    {
     "data": {
      "text/plain": [
       "{'ListImages': [{'title': 'Cerberus Hemisphere Enhanced',\n",
       "   'img_url': 'https://marshemispheres.com/images/f5e372a36edfa389625da6d0cc25d905_cerberus_enhanced.tif_full.jpg'},\n",
       "  {'title': 'Schiaparelli Hemisphere Enhanced',\n",
       "   'img_url': 'https://marshemispheres.com/images/3778f7b43bbbc89d6e3cfabb3613ba93_schiaparelli_enhanced.tif_full.jpg'},\n",
       "  {'title': 'Syrtis Major Hemisphere Enhanced',\n",
       "   'img_url': 'https://marshemispheres.com/images/555e6403a6ddd7ba16ddb0e471cadcf7_syrtis_major_enhanced.tif_full.jpg'},\n",
       "  {'title': 'Valles Marineris Hemisphere Enhanced',\n",
       "   'img_url': 'https://marshemispheres.com/images/b3c7c6c9138f57b4756be9b9c43e3a48_valles_marineris_enhanced.tif_full.jpg'}]}"
      ]
     },
     "execution_count": 41,
     "metadata": {},
     "output_type": "execute_result"
    }
   ],
   "source": [
    "#Create a dictionary with the scraped data\n",
    "mars_hemisphere_images = {\"ListImages\": hemisphere_image_urls}\n",
    "mars_hemisphere_images"
   ]
  },
  {
   "cell_type": "code",
   "execution_count": 42,
   "id": "e7fd7d0c",
   "metadata": {},
   "outputs": [],
   "source": [
    "#Save the scraped data as an entry of the dictionary\n",
    "scraped_data[\"ListImages\"] = hemisphere_image_urls"
   ]
  },
  {
   "cell_type": "code",
   "execution_count": 43,
   "id": "8ff68e05",
   "metadata": {},
   "outputs": [],
   "source": [
    "browser.quit()"
   ]
  },
  {
   "cell_type": "code",
   "execution_count": 44,
   "id": "f930aea5",
   "metadata": {},
   "outputs": [
    {
     "data": {
      "text/plain": [
       "{'featured_image_url': 'https://spaceimages-mars.com/image/featured/mars3.jpg',\n",
       " 'ListImages': [{'title': 'Cerberus Hemisphere Enhanced',\n",
       "   'img_url': 'https://marshemispheres.com/images/f5e372a36edfa389625da6d0cc25d905_cerberus_enhanced.tif_full.jpg'},\n",
       "  {'title': 'Schiaparelli Hemisphere Enhanced',\n",
       "   'img_url': 'https://marshemispheres.com/images/3778f7b43bbbc89d6e3cfabb3613ba93_schiaparelli_enhanced.tif_full.jpg'},\n",
       "  {'title': 'Syrtis Major Hemisphere Enhanced',\n",
       "   'img_url': 'https://marshemispheres.com/images/555e6403a6ddd7ba16ddb0e471cadcf7_syrtis_major_enhanced.tif_full.jpg'},\n",
       "  {'title': 'Valles Marineris Hemisphere Enhanced',\n",
       "   'img_url': 'https://marshemispheres.com/images/b3c7c6c9138f57b4756be9b9c43e3a48_valles_marineris_enhanced.tif_full.jpg'}]}"
      ]
     },
     "execution_count": 44,
     "metadata": {},
     "output_type": "execute_result"
    }
   ],
   "source": [
    "#Scraped data is now available as a dictionary form\n",
    "scraped_data"
   ]
  },
  {
   "cell_type": "code",
   "execution_count": null,
   "id": "f624902b",
   "metadata": {},
   "outputs": [],
   "source": []
  }
 ],
 "metadata": {
  "kernelspec": {
   "display_name": "Python 3 (ipykernel)",
   "language": "python",
   "name": "python3"
  },
  "language_info": {
   "codemirror_mode": {
    "name": "ipython",
    "version": 3
   },
   "file_extension": ".py",
   "mimetype": "text/x-python",
   "name": "python",
   "nbconvert_exporter": "python",
   "pygments_lexer": "ipython3",
   "version": "3.9.12"
  }
 },
 "nbformat": 4,
 "nbformat_minor": 5
}
